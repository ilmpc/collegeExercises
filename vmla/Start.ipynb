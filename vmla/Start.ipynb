{
 "cells": [
  {
   "cell_type": "code",
   "execution_count": 1,
   "metadata": {},
   "outputs": [],
   "source": [
    "import math\n",
    "def sin (x,n):\n",
    "    while abs(x) > 2*math.pi:\n",
    "        x -= 2*math.pi\n",
    "    s = x\n",
    "    mem = x\n",
    "    for i in range(1,n):\n",
    "        mem *= x ** 2 / ((2*i)*(2*i+1))\n",
    "        s += (1 if i % 2 == 0 else -1) * mem\n",
    "    return s"
   ]
  },
  {
   "cell_type": "code",
   "execution_count": 2,
   "metadata": {},
   "outputs": [],
   "source": [
    "def test(x):\n",
    "    res = []\n",
    "    sinus = math.sin(x)\n",
    "    for i in range(1,15):\n",
    "        res.append(sinus - sin(x,i))\n",
    "    return res"
   ]
  },
  {
   "cell_type": "code",
   "execution_count": 3,
   "metadata": {},
   "outputs": [
    {
     "name": "stdout",
     "output_type": "stream",
     "text": [
      "[-1.5557749964431338, 0.4744084192130593, -0.0629898922352845, 0.004748989765043454, -0.00023178090020326003, 7.933916118973983e-06, -2.0115392951325362e-07, 3.930656133910304e-09, -6.101852356721338e-11, 7.717160244169463e-13, -7.105427357601002e-15, 9.992007221626409e-16, 8.881784197001252e-16, 8.881784197001252e-16]\n"
     ]
    }
   ],
   "source": [
    "print(test(40))"
   ]
  }
 ],
 "metadata": {
  "kernelspec": {
   "display_name": "Python 3",
   "language": "python",
   "name": "python3"
  },
  "language_info": {
   "codemirror_mode": {
    "name": "ipython",
    "version": 3
   },
   "file_extension": ".py",
   "mimetype": "text/x-python",
   "name": "python",
   "nbconvert_exporter": "python",
   "pygments_lexer": "ipython3",
   "version": "3.7.3"
  }
 },
 "nbformat": 4,
 "nbformat_minor": 2
}
