{
 "cells": [
  {
   "cell_type": "markdown",
   "metadata": {},
   "source": [
    "## Метод прогонки"
   ]
  },
  {
   "cell_type": "code",
   "execution_count": 1,
   "metadata": {
    "pycharm": {
     "is_executing": false
    }
   },
   "outputs": [],
   "source": [
    "def solve_tridiag_matrix(under: list, up: list, diag: list, free: list) -> list:\n",
    "    N = len(free) - 1\n",
    "    alpha = [None, up[0] / diag[0]]\n",
    "    beta = [None, free[0] / diag[0]]\n",
    "    for i in range(1, N):\n",
    "        den = 1 / (diag[i] - under[i] * alpha[i])\n",
    "        alpha.append(up[i] * den)\n",
    "        beta.append((free[i] + under[i] * beta[i]) * den)\n",
    "    else:\n",
    "        beta.append((free[N] + under[N] * beta[N]) / (diag[N] - under[N] * alpha[N]))\n",
    "    x = (N+1) * [None]\n",
    "    x[N] = (free[N] + under[N] * beta[N]) / (diag[N] - under[N] * alpha[N])\n",
    "    for i in range(N - 1, -1, -1):\n",
    "        x[i] = alpha[i + 1] * x[i + 1] + beta[i + 1]\n",
    "    return x"
   ]
  },
  {
   "cell_type": "code",
   "execution_count": 2,
   "metadata": {
    "pycharm": {
     "is_executing": false
    }
   },
   "outputs": [
    {
     "data": {
      "text/plain": [
       "[-10.0, 5.000000000000001, -1.9999999999999998, -10.0, -3.0]"
      ]
     },
     "execution_count": 2,
     "metadata": {},
     "output_type": "execute_result"
    }
   ],
   "source": [
    "b = [1,1,-2,4,None]\n",
    "a = [None, 3,5,6,5]\n",
    "c = [2,8,12,18,10]\n",
    "f = [-25,72,-69,-156,20]\n",
    "solve_tridiag_matrix(a,b,c,f)"
   ]
  },
  {
   "cell_type": "code",
   "execution_count": 3,
   "metadata": {},
   "outputs": [],
   "source": [
    "import numpy as np\n",
    "\n",
    "def _solve_tridiag_matrix(under, up, diag, free, dtype=float):\n",
    "    N = len(free)\n",
    "    # Init forward step\n",
    "    alpha = np.empty(N, dtype)  # alpha i = 1..N-1\n",
    "    alpha[1] = up[0] / diag[0]\n",
    "    beta = np.empty(N + 1, dtype)  # beta i = 1..N\n",
    "    beta[1] = free[0] / diag[0]\n",
    "    # Iterate\n",
    "    for i in range(1, N - 1):  # i = 1..N-2\n",
    "        den = 1 / (diag[i] - under[i] * alpha[i])\n",
    "        alpha[i + 1] = up[i] * den  # i+1 = 2..N-1\n",
    "        beta[i + 1] = (free[i] + under[i] * beta[i]) * den\n",
    "    else:\n",
    "        beta[N] = (free[N - 1] + under[N - 1] * beta[N - 1]) / (diag[N - 1] - under[N - 1] * alpha[N - 1])\n",
    "    # Init backward step\n",
    "    x = np.empty(N, dtype)\n",
    "    x[N - 1] = (free[N - 1] + under[N - 1] * beta[N - 1]) / (diag[N - 1] - under[N - 1] * alpha[N - 1])\n",
    "    for i in range(N - 2, -1, -1):  # i = N-2..0\n",
    "        x[i] = alpha[i + 1] * x[i + 1] + beta[i + 1]\n",
    "    return x"
   ]
  },
  {
   "cell_type": "code",
   "execution_count": 4,
   "metadata": {},
   "outputs": [
    {
     "name": "stdout",
     "output_type": "stream",
     "text": [
      "[-10.   5.  -2. -10.  -3.]\n"
     ]
    }
   ],
   "source": [
    "#np.set_printoptions(precision=5)\n",
    "up = np.array([1, 1, -2, 4, 0.], float)\n",
    "und = np.array([0., 3, 5, 6, 5], float)\n",
    "diag = np.array([2, 8, 12, 18, 10.], float)\n",
    "f = np.array([-25, 72, -69, -156, 20.], float)\n",
    "print(_solve_tridiag_matrix(und, up, diag, f))\n"
   ]
  },
  {
   "cell_type": "markdown",
   "metadata": {},
   "source": [
    "## Интерполяция",
    "check here: https://www.cyberforum.ru/python-beginners/thread2447664.html"
   ]
  },
  {
   "cell_type": "code",
   "execution_count": 7,
   "metadata": {},
   "outputs": [
    {
     "ename": "AttributeError",
     "evalue": "module 'numpy' has no attribute 'special'",
     "output_type": "error",
     "traceback": [
      "\u001b[1;31m---------------------------------------------------------------------------\u001b[0m",
      "\u001b[1;31mAttributeError\u001b[0m                            Traceback (most recent call last)",
      "\u001b[1;32m<ipython-input-7-dceb925473bf>\u001b[0m in \u001b[0;36m<module>\u001b[1;34m\u001b[0m\n\u001b[0;32m      1\u001b[0m \u001b[1;32mimport\u001b[0m \u001b[0mnumpy\u001b[0m \u001b[1;32mas\u001b[0m \u001b[0mnp\u001b[0m\u001b[1;33m\u001b[0m\u001b[1;33m\u001b[0m\u001b[0m\n\u001b[1;32m----> 2\u001b[1;33m \u001b[0mprint\u001b[0m\u001b[1;33m(\u001b[0m\u001b[0mnp\u001b[0m\u001b[1;33m.\u001b[0m\u001b[0mspecial\u001b[0m\u001b[1;33m.\u001b[0m\u001b[0myn\u001b[0m\u001b[1;33m(\u001b[0m\u001b[1;36m1\u001b[0m\u001b[1;33m,\u001b[0m\u001b[1;36m10\u001b[0m\u001b[1;33m)\u001b[0m\u001b[1;33m)\u001b[0m\u001b[1;33m\u001b[0m\u001b[1;33m\u001b[0m\u001b[0m\n\u001b[0m\u001b[0;32m      3\u001b[0m \u001b[1;31m#sp.interpolate.CubicSpline(bc_type=((1, 0.0), (1, 0.0)))\u001b[0m\u001b[1;33m\u001b[0m\u001b[1;33m\u001b[0m\u001b[1;33m\u001b[0m\u001b[0m\n",
      "\u001b[1;31mAttributeError\u001b[0m: module 'numpy' has no attribute 'special'"
     ]
    }
   ],
   "source": [
    "import numpy as np\n",
    "#print(np.special.yn(1,10))\n",
    "#sp.interpolate.CubicSpline(bc_type=((1, 0.0), (1, 0.0))) "
   ]
  }
 ],
 "metadata": {
  "kernelspec": {
   "display_name": "Python 3",
   "language": "python",
   "name": "python3"
  },
  "language_info": {
   "codemirror_mode": {
    "name": "ipython",
    "version": 3
   },
   "file_extension": ".py",
   "mimetype": "text/x-python",
   "name": "python",
   "nbconvert_exporter": "python",
   "pygments_lexer": "ipython3",
   "version": "3.7.4"
  }
 },
 "nbformat": 4,
 "nbformat_minor": 4
}
